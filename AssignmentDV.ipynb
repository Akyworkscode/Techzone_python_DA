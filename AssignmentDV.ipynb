{
 "cells": [
  {
   "cell_type": "markdown",
   "id": "7405e02e-7802-4ae1-82e7-47f3ff2ca98e",
   "metadata": {},
   "source": [
    "# Pandas Exploratory Data Analysis Assignment"
   ]
  },
  {
   "cell_type": "code",
   "execution_count": 2,
   "id": "9994cfe6-7a7f-4039-b723-75395862de0c",
   "metadata": {},
   "outputs": [],
   "source": [
    "import pandas as pd\n",
    "import warnings\n",
    "warnings.filterwarnings(\"ignore\")"
   ]
  },
  {
   "cell_type": "markdown",
   "id": "dd45cf8d-6609-497c-8012-134d282efb91",
   "metadata": {},
   "source": [
    "# Load the Titanic dataset using pandas and display the first few rows."
   ]
  },
  {
   "cell_type": "code",
   "execution_count": 5,
   "id": "0f19b711-8dcf-4f39-a67e-98462a81bdb8",
   "metadata": {},
   "outputs": [],
   "source": [
    "df=pd.read_csv(r'Desktop/data analyst techzone/python/Jupyter/titanic.csv')"
   ]
  },
  {
   "cell_type": "code",
   "execution_count": 7,
   "id": "c6c4a50b-810e-45cc-bb79-ee8317bc22ef",
   "metadata": {},
   "outputs": [
    {
     "data": {
      "text/html": [
       "<div>\n",
       "<style scoped>\n",
       "    .dataframe tbody tr th:only-of-type {\n",
       "        vertical-align: middle;\n",
       "    }\n",
       "\n",
       "    .dataframe tbody tr th {\n",
       "        vertical-align: top;\n",
       "    }\n",
       "\n",
       "    .dataframe thead th {\n",
       "        text-align: right;\n",
       "    }\n",
       "</style>\n",
       "<table border=\"1\" class=\"dataframe\">\n",
       "  <thead>\n",
       "    <tr style=\"text-align: right;\">\n",
       "      <th></th>\n",
       "      <th>Unnamed: 0</th>\n",
       "      <th>survived</th>\n",
       "      <th>pclass</th>\n",
       "      <th>sex</th>\n",
       "      <th>age</th>\n",
       "      <th>sibsp</th>\n",
       "      <th>parch</th>\n",
       "      <th>fare</th>\n",
       "      <th>embarked</th>\n",
       "      <th>class</th>\n",
       "      <th>who</th>\n",
       "      <th>adult_male</th>\n",
       "      <th>deck</th>\n",
       "      <th>embark_town</th>\n",
       "      <th>alive</th>\n",
       "      <th>alone</th>\n",
       "    </tr>\n",
       "  </thead>\n",
       "  <tbody>\n",
       "    <tr>\n",
       "      <th>0</th>\n",
       "      <td>0</td>\n",
       "      <td>0</td>\n",
       "      <td>3</td>\n",
       "      <td>male</td>\n",
       "      <td>22.0</td>\n",
       "      <td>1</td>\n",
       "      <td>0</td>\n",
       "      <td>7.2500</td>\n",
       "      <td>S</td>\n",
       "      <td>Third</td>\n",
       "      <td>man</td>\n",
       "      <td>True</td>\n",
       "      <td>NaN</td>\n",
       "      <td>Southampton</td>\n",
       "      <td>no</td>\n",
       "      <td>False</td>\n",
       "    </tr>\n",
       "    <tr>\n",
       "      <th>1</th>\n",
       "      <td>1</td>\n",
       "      <td>1</td>\n",
       "      <td>1</td>\n",
       "      <td>female</td>\n",
       "      <td>38.0</td>\n",
       "      <td>1</td>\n",
       "      <td>0</td>\n",
       "      <td>71.2833</td>\n",
       "      <td>C</td>\n",
       "      <td>First</td>\n",
       "      <td>woman</td>\n",
       "      <td>False</td>\n",
       "      <td>C</td>\n",
       "      <td>Cherbourg</td>\n",
       "      <td>yes</td>\n",
       "      <td>False</td>\n",
       "    </tr>\n",
       "    <tr>\n",
       "      <th>2</th>\n",
       "      <td>2</td>\n",
       "      <td>1</td>\n",
       "      <td>3</td>\n",
       "      <td>female</td>\n",
       "      <td>26.0</td>\n",
       "      <td>0</td>\n",
       "      <td>0</td>\n",
       "      <td>7.9250</td>\n",
       "      <td>S</td>\n",
       "      <td>Third</td>\n",
       "      <td>woman</td>\n",
       "      <td>False</td>\n",
       "      <td>NaN</td>\n",
       "      <td>Southampton</td>\n",
       "      <td>yes</td>\n",
       "      <td>True</td>\n",
       "    </tr>\n",
       "    <tr>\n",
       "      <th>3</th>\n",
       "      <td>3</td>\n",
       "      <td>1</td>\n",
       "      <td>1</td>\n",
       "      <td>female</td>\n",
       "      <td>35.0</td>\n",
       "      <td>1</td>\n",
       "      <td>0</td>\n",
       "      <td>53.1000</td>\n",
       "      <td>S</td>\n",
       "      <td>First</td>\n",
       "      <td>woman</td>\n",
       "      <td>False</td>\n",
       "      <td>C</td>\n",
       "      <td>Southampton</td>\n",
       "      <td>yes</td>\n",
       "      <td>False</td>\n",
       "    </tr>\n",
       "    <tr>\n",
       "      <th>4</th>\n",
       "      <td>4</td>\n",
       "      <td>0</td>\n",
       "      <td>3</td>\n",
       "      <td>male</td>\n",
       "      <td>35.0</td>\n",
       "      <td>0</td>\n",
       "      <td>0</td>\n",
       "      <td>8.0500</td>\n",
       "      <td>S</td>\n",
       "      <td>Third</td>\n",
       "      <td>man</td>\n",
       "      <td>True</td>\n",
       "      <td>NaN</td>\n",
       "      <td>Southampton</td>\n",
       "      <td>no</td>\n",
       "      <td>True</td>\n",
       "    </tr>\n",
       "  </tbody>\n",
       "</table>\n",
       "</div>"
      ],
      "text/plain": [
       "   Unnamed: 0  survived  pclass     sex   age  sibsp  parch     fare embarked  \\\n",
       "0           0         0       3    male  22.0      1      0   7.2500        S   \n",
       "1           1         1       1  female  38.0      1      0  71.2833        C   \n",
       "2           2         1       3  female  26.0      0      0   7.9250        S   \n",
       "3           3         1       1  female  35.0      1      0  53.1000        S   \n",
       "4           4         0       3    male  35.0      0      0   8.0500        S   \n",
       "\n",
       "   class    who  adult_male deck  embark_town alive  alone  \n",
       "0  Third    man        True  NaN  Southampton    no  False  \n",
       "1  First  woman       False    C    Cherbourg   yes  False  \n",
       "2  Third  woman       False  NaN  Southampton   yes   True  \n",
       "3  First  woman       False    C  Southampton   yes  False  \n",
       "4  Third    man        True  NaN  Southampton    no   True  "
      ]
     },
     "execution_count": 7,
     "metadata": {},
     "output_type": "execute_result"
    }
   ],
   "source": [
    "df.head()"
   ]
  },
  {
   "cell_type": "markdown",
   "id": "14cbb50b-6745-445c-a869-44c81a4f1abf",
   "metadata": {},
   "source": [
    "Q.Find out the total number of passengers in the dataset."
   ]
  },
  {
   "cell_type": "code",
   "execution_count": 10,
   "id": "76d4a2c8-60a3-4f92-be13-0f658000fd4f",
   "metadata": {},
   "outputs": [
    {
     "name": "stdout",
     "output_type": "stream",
     "text": [
      "The total number of passengers: 891\n"
     ]
    }
   ],
   "source": [
    "total_rows=df.shape[0]\n",
    "print(\"The total number of passengers:\",total_rows)"
   ]
  },
  {
   "cell_type": "markdown",
   "id": "2dc164fd-633a-4860-bd5c-6ddd05af004a",
   "metadata": {},
   "source": [
    "# Display basic summary statistics (mean, median, min, max) of\n",
    "passengers' ages."
   ]
  },
  {
   "cell_type": "code",
   "execution_count": 13,
   "id": "af0a507c-1d29-451b-98d6-aa959d8316a3",
   "metadata": {},
   "outputs": [
    {
     "data": {
      "text/plain": [
       "count    714.000000\n",
       "mean      29.699118\n",
       "std       14.526497\n",
       "min        0.420000\n",
       "25%       20.125000\n",
       "50%       28.000000\n",
       "75%       38.000000\n",
       "max       80.000000\n",
       "Name: age, dtype: float64"
      ]
     },
     "execution_count": 13,
     "metadata": {},
     "output_type": "execute_result"
    }
   ],
   "source": [
    "df['age'].describe()"
   ]
  },
  {
   "cell_type": "markdown",
   "id": "29ba1806-34da-4567-aced-51934fcaa096",
   "metadata": {},
   "source": [
    "Q.Calculate the percentage of passengers who survived."
   ]
  },
  {
   "cell_type": "code",
   "execution_count": 16,
   "id": "df0c85a7-05ff-422c-a7c3-e5ac514a72a9",
   "metadata": {},
   "outputs": [
    {
     "name": "stdout",
     "output_type": "stream",
     "text": [
      "The percentage of passengers who survived is 38.38383838383838 %\n"
     ]
    }
   ],
   "source": [
    "survival_rate=df['survived'].mean()*100\n",
    "print(\"The percentage of passengers who survived is\",survival_rate,'%')"
   ]
  },
  {
   "cell_type": "markdown",
   "id": "d986e49b-654c-4998-9be0-382b568c58a3",
   "metadata": {},
   "source": [
    "# Check for missing values in the dataset and handle them appropriately."
   ]
  },
  {
   "cell_type": "code",
   "execution_count": 19,
   "id": "db520b19-22a1-4b9b-9eda-7bca963520ab",
   "metadata": {},
   "outputs": [
    {
     "data": {
      "text/plain": [
       "Unnamed: 0       0\n",
       "survived         0\n",
       "pclass           0\n",
       "sex              0\n",
       "age            177\n",
       "sibsp            0\n",
       "parch            0\n",
       "fare             0\n",
       "embarked         2\n",
       "class            0\n",
       "who              0\n",
       "adult_male       0\n",
       "deck           688\n",
       "embark_town      2\n",
       "alive            0\n",
       "alone            0\n",
       "dtype: int64"
      ]
     },
     "execution_count": 19,
     "metadata": {},
     "output_type": "execute_result"
    }
   ],
   "source": [
    "df.isnull().sum()"
   ]
  },
  {
   "cell_type": "code",
   "execution_count": 20,
   "id": "9721b16e-ea26-4ee5-ae7f-5bd25e38de8a",
   "metadata": {},
   "outputs": [],
   "source": [
    "df['age'].fillna(df['age'].median(), inplace=True)"
   ]
  },
  {
   "cell_type": "code",
   "execution_count": 23,
   "id": "98263413-5961-474c-a2d0-1b12af45721b",
   "metadata": {},
   "outputs": [],
   "source": [
    "df['embarked'].fillna(df['embarked'].mode()[0], inplace=True)\n",
    "# Replace missing 'Embarked' values with the most common port.\n",
    "df['embark_town'].fillna(df['embark_town'].mode()[0], inplace=True)\n",
    "# Replace missing 'Embarked town' values with the most common port.\n",
    "\n",
    "df['deck'].fillna('Unknown', inplace=True)"
   ]
  },
  {
   "cell_type": "code",
   "execution_count": 24,
   "id": "6b4882ad-f934-4653-872f-338ca01645b6",
   "metadata": {},
   "outputs": [
    {
     "data": {
      "text/plain": [
       "Unnamed: 0     0\n",
       "survived       0\n",
       "pclass         0\n",
       "sex            0\n",
       "age            0\n",
       "sibsp          0\n",
       "parch          0\n",
       "fare           0\n",
       "embarked       0\n",
       "class          0\n",
       "who            0\n",
       "adult_male     0\n",
       "deck           0\n",
       "embark_town    0\n",
       "alive          0\n",
       "alone          0\n",
       "dtype: int64"
      ]
     },
     "execution_count": 24,
     "metadata": {},
     "output_type": "execute_result"
    }
   ],
   "source": [
    "df.isnull().sum()"
   ]
  },
  {
   "cell_type": "markdown",
   "id": "084a9fa5-abfd-4f3a-b593-9e411f0201f4",
   "metadata": {},
   "source": [
    "# Create a new column 'AgeGroup' that categorises passengers as 'Child', 'Adult', or 'Elderly' based on their age"
   ]
  },
  {
   "cell_type": "code",
   "execution_count": 27,
   "id": "0cde1cb2-692a-48fa-8148-904ed7c6ea5b",
   "metadata": {},
   "outputs": [],
   "source": [
    "df['AgeGroup'] = pd.cut(df['age'], bins=[0, 12, 59, 100], labels=['Child', 'Adult', 'Elderly'], right=False)\n"
   ]
  },
  {
   "cell_type": "code",
   "execution_count": 29,
   "id": "89048000-868b-4523-9f8a-36e21e060588",
   "metadata": {},
   "outputs": [
    {
     "data": {
      "text/html": [
       "<div>\n",
       "<style scoped>\n",
       "    .dataframe tbody tr th:only-of-type {\n",
       "        vertical-align: middle;\n",
       "    }\n",
       "\n",
       "    .dataframe tbody tr th {\n",
       "        vertical-align: top;\n",
       "    }\n",
       "\n",
       "    .dataframe thead th {\n",
       "        text-align: right;\n",
       "    }\n",
       "</style>\n",
       "<table border=\"1\" class=\"dataframe\">\n",
       "  <thead>\n",
       "    <tr style=\"text-align: right;\">\n",
       "      <th></th>\n",
       "      <th>AgeGroup</th>\n",
       "    </tr>\n",
       "  </thead>\n",
       "  <tbody>\n",
       "    <tr>\n",
       "      <th>0</th>\n",
       "      <td>Adult</td>\n",
       "    </tr>\n",
       "    <tr>\n",
       "      <th>1</th>\n",
       "      <td>Adult</td>\n",
       "    </tr>\n",
       "    <tr>\n",
       "      <th>2</th>\n",
       "      <td>Adult</td>\n",
       "    </tr>\n",
       "    <tr>\n",
       "      <th>3</th>\n",
       "      <td>Adult</td>\n",
       "    </tr>\n",
       "    <tr>\n",
       "      <th>4</th>\n",
       "      <td>Adult</td>\n",
       "    </tr>\n",
       "  </tbody>\n",
       "</table>\n",
       "</div>"
      ],
      "text/plain": [
       "  AgeGroup\n",
       "0    Adult\n",
       "1    Adult\n",
       "2    Adult\n",
       "3    Adult\n",
       "4    Adult"
      ]
     },
     "execution_count": 29,
     "metadata": {},
     "output_type": "execute_result"
    }
   ],
   "source": [
    "df[['AgeGroup']].head()"
   ]
  },
  {
   "cell_type": "markdown",
   "id": "717b9b2f-766d-4797-b687-8098c343db34",
   "metadata": {},
   "source": [
    "# Convert the 'Sex' column to numerical values\n",
    "e.g., 0 for 'female', 1 \n",
    "for 'male."
   ]
  },
  {
   "cell_type": "code",
   "execution_count": 33,
   "id": "8f131d1d-ac61-4eb9-a847-00fb9482e7cb",
   "metadata": {},
   "outputs": [],
   "source": [
    "df['sex'] = df['sex'].map({'female': 0, 'male': 1})"
   ]
  },
  {
   "cell_type": "code",
   "execution_count": 34,
   "id": "30a1bfe6-813d-4151-b777-ec0fe07c4a16",
   "metadata": {},
   "outputs": [
    {
     "data": {
      "text/html": [
       "<div>\n",
       "<style scoped>\n",
       "    .dataframe tbody tr th:only-of-type {\n",
       "        vertical-align: middle;\n",
       "    }\n",
       "\n",
       "    .dataframe tbody tr th {\n",
       "        vertical-align: top;\n",
       "    }\n",
       "\n",
       "    .dataframe thead th {\n",
       "        text-align: right;\n",
       "    }\n",
       "</style>\n",
       "<table border=\"1\" class=\"dataframe\">\n",
       "  <thead>\n",
       "    <tr style=\"text-align: right;\">\n",
       "      <th></th>\n",
       "      <th>sex</th>\n",
       "    </tr>\n",
       "  </thead>\n",
       "  <tbody>\n",
       "    <tr>\n",
       "      <th>0</th>\n",
       "      <td>1</td>\n",
       "    </tr>\n",
       "    <tr>\n",
       "      <th>1</th>\n",
       "      <td>0</td>\n",
       "    </tr>\n",
       "    <tr>\n",
       "      <th>2</th>\n",
       "      <td>0</td>\n",
       "    </tr>\n",
       "    <tr>\n",
       "      <th>3</th>\n",
       "      <td>0</td>\n",
       "    </tr>\n",
       "    <tr>\n",
       "      <th>4</th>\n",
       "      <td>1</td>\n",
       "    </tr>\n",
       "  </tbody>\n",
       "</table>\n",
       "</div>"
      ],
      "text/plain": [
       "   sex\n",
       "0    1\n",
       "1    0\n",
       "2    0\n",
       "3    0\n",
       "4    1"
      ]
     },
     "execution_count": 34,
     "metadata": {},
     "output_type": "execute_result"
    }
   ],
   "source": [
    "df[['sex']].head()"
   ]
  },
  {
   "cell_type": "markdown",
   "id": "2cd63589-f138-45ca-a2aa-5be2ee58e412",
   "metadata": {},
   "source": [
    "# Determine the average age of passengers\n",
    "who survived and those \n",
    "who did not."
   ]
  },
  {
   "cell_type": "code",
   "execution_count": 37,
   "id": "2c7a28e4-ce4a-4c02-b46f-834f6ce09b1a",
   "metadata": {},
   "outputs": [
    {
     "name": "stdout",
     "output_type": "stream",
     "text": [
      "Average age of Survivors  28\n",
      "\n",
      "\n",
      "Average age of non Survivors 30\n"
     ]
    }
   ],
   "source": [
    "avg_age_survived = df[df['survived'] == 1]['age'].mean()\n",
    "avg_age_not_survived = df[df['survived'] == 0]['age'].mean()\n",
    "print(\"Average age of Survivors \",round(avg_age_survived))\n",
    "print('\\n')\n",
    "print(\"Average age of non Survivors\",round(avg_age_not_survived))"
   ]
  },
  {
   "cell_type": "markdown",
   "id": "b085311e-4ff9-44d0-8f46-a009a724623d",
   "metadata": {},
   "source": [
    "# Find the percentage of passengers \n",
    "who survived based on their passenger class"
   ]
  },
  {
   "cell_type": "code",
   "execution_count": 41,
   "id": "0fe103ae-e465-48c2-8d3b-0407104033ba",
   "metadata": {},
   "outputs": [
    {
     "name": "stdout",
     "output_type": "stream",
     "text": [
      "Passenger Class 1: 63% survivors\n",
      "Passenger Class 2: 47% survivors\n",
      "Passenger Class 3: 24% survivors\n"
     ]
    }
   ],
   "source": [
    "survival_percent_byclass=df.groupby('pclass')['survived'].mean() * 100\n",
    "for pclass, percentage in survival_percent_byclass.items():\n",
    "    print(f\"Passenger Class {pclass}: {round(percentage)}% survivors\")"
   ]
  },
  {
   "cell_type": "code",
   "execution_count": 42,
   "id": "8e85fac3-800e-4cfe-be02-01a6216816d1",
   "metadata": {},
   "outputs": [
    {
     "name": "stdout",
     "output_type": "stream",
     "text": [
      "Female: 74% survivors\n",
      "Male: 19% survivors\n"
     ]
    }
   ],
   "source": [
    "survival_by_gender=df.groupby('sex')['survived'].mean()*100\n",
    "\n",
    "sex_map = {1: 'Male', 0: 'Female'}\n",
    "\n",
    "for sex, percentage in survival_by_gender.items():\n",
    "    print(f\"{sex_map[sex]}: {round(percentage)}% survivors\")"
   ]
  },
  {
   "cell_type": "markdown",
   "id": "a27dc0d5-23cd-478c-8ec8-2f5a781dd4f1",
   "metadata": {},
   "source": [
    "# Plot a histogram of passengers' ages."
   ]
  },
  {
   "cell_type": "code",
   "execution_count": 45,
   "id": "1bb7f8bd-97f4-416c-a9e8-cbc83555addd",
   "metadata": {},
   "outputs": [],
   "source": [
    "import matplotlib.pyplot as plt"
   ]
  },
  {
   "cell_type": "code",
   "execution_count": 46,
   "id": "562c1106-468b-4c4e-96d0-10a9a7e38232",
   "metadata": {},
   "outputs": [
    {
     "data": {
      "image/png": "[encoded data removed]",
      "text/plain": [
       "<Figure size 640x480 with 1 Axes>"
      ]
     },
     "metadata": {},
     "output_type": "display_data"
    }
   ],
   "source": [
    "plt.hist(df['age'],bins=10,color='black', edgecolor='red')\n",
    "plt.title('Distribution of Passengers Age')\n",
    "plt.xlabel('Age')\n",
    "plt.ylabel('Number of Passengers')\n",
    "plt.show()"
   ]
  },
  {
   "cell_type": "markdown",
   "id": "9f2d27cd-d0af-4f2a-9da4-4b2d6f3994bd",
   "metadata": {},
   "source": [
    "# Visualise the survival rate for different passenger classes using a stacked bar plot."
   ]
  },
  {
   "cell_type": "code",
   "execution_count": 49,
   "id": "097d1545-595b-4a9b-aa00-aa0bf2806015",
   "metadata": {},
   "outputs": [
    {
     "data": {
      "text/plain": [
       "<matplotlib.legend.Legend at 0x2c870c92cf0>"
      ]
     },
     "execution_count": 49,
     "metadata": {},
     "output_type": "execute_result"
    },
    {
     "data": {
      "image/png": "[encoded data removed]",
      "text/plain": [
       "<Figure size 800x600 with 1 Axes>"
      ]
     },
     "metadata": {},
     "output_type": "display_data"
    }
   ],
   "source": [
    "survival_counts = df.groupby(['pclass', 'survived']).size().unstack()\n",
    "\n",
    "survival_counts.plot(kind='bar', stacked=True, color=['red', 'green'], figsize=(8, 6))\n",
    "\n",
    "plt.title('Survival Rate by Passenger Class')\n",
    "plt.xlabel('Passenger Class')\n",
    "plt.ylabel('Number of Passengers')\n",
    "plt.legend(['Did Not Survive', 'Survived'], loc='upper left')\n"
   ]
  },
  {
   "cell_type": "markdown",
   "id": "edc096f5-a6fa-4a90-84c6-0e7ca0d7817d",
   "metadata": {},
   "source": [
    "# Determine the correlation between age, fare, and survival using a correlation matrix."
   ]
  },
  {
   "cell_type": "code",
   "execution_count": 51,
   "id": "1632d7ec-125d-4dec-8df7-053600252231",
   "metadata": {},
   "outputs": [
    {
     "data": {
      "text/plain": [
       "<function matplotlib.pyplot.show(close=None, block=None)>"
      ]
     },
     "execution_count": 51,
     "metadata": {},
     "output_type": "execute_result"
    },
    {
     "data": {
      "image/png": "[encoded data removed]",
      "text/plain": [
       "<Figure size 640x480 with 2 Axes>"
      ]
     },
     "metadata": {},
     "output_type": "display_data"
    }
   ],
   "source": [
    "import seaborn as sns\n",
    "sns.heatmap(df[['age','fare','survived']].corr(),annot=True,cmap='coolwarm')\n",
    "plt.show"
   ]
  },
  {
   "cell_type": "markdown",
   "id": "231ea0fb-0474-419f-b190-d873a101aac4",
   "metadata": {},
   "source": [
    "# Compare the survival rates of passengers with and without siblings or spouses aboard."
   ]
  },
  {
   "cell_type": "code",
   "execution_count": 102,
   "id": "2a7ffcaa-98d6-4789-9a11-262bda61aa0b",
   "metadata": {},
   "outputs": [
    {
     "name": "stdout",
     "output_type": "stream",
     "text": [
      "Survival rate for passengers with siblings or spouses aboard: 46.64%\n",
      "Survival rate for passengers without siblings or spouses aboard: 34.54%\n"
     ]
    }
   ],
   "source": [
    "df['Has_Sibling_Spouse'] = (df['sibsp'] > 0).astype(int)\n",
    "survival_rate_sibling_spouse = df.groupby('Has_Sibling_Spouse')['survived'].mean() * 100\n",
    "survival_rate_sibling_spouse = survival_rate_sibling_spouse.round(2)\n",
    "print(f\"Survival rate for passengers with siblings or spouses aboard: {survival_rate_sibling_spouse[1]}%\")\n",
    "print(f\"Survival rate for passengers without siblings or spouses aboard: {survival_rate_sibling_spouse[0]}%\")"
   ]
  },
  {
   "cell_type": "markdown",
   "id": "9a94ae65-7ee0-4233-88a5-347143cdbfb7",
   "metadata": {},
   "source": [
    "# Group passengers by their 'AgeGroup' \n",
    "and calculate theaverage fare for each group."
   ]
  },
  {
   "cell_type": "code",
   "execution_count": 91,
   "id": "61561148-009c-4792-8acb-d0cf571120fc",
   "metadata": {},
   "outputs": [
    {
     "name": "stdout",
     "output_type": "stream",
     "text": [
      "AgeGroup\n",
      "Child      31.83\n",
      "Adult      31.92\n",
      "Elderly    41.10\n",
      "Name: fare, dtype: float64\n"
     ]
    }
   ],
   "source": [
    "average_fare_agegroup = df.groupby('AgeGroup')['fare'].mean()\n",
    "average_fare_agegroup = average_fare_agegroup.round(2)\n",
    "print(average_fare_agegroup)"
   ]
  },
  {
   "cell_type": "markdown",
   "id": "86b4d5c0-6ddc-490b-b0d1-d8b87ad44687",
   "metadata": {},
   "source": [
    "# Calculate the survival rate for passengers \n",
    "with different numbers of parents or children aboard"
   ]
  },
  {
   "cell_type": "code",
   "execution_count": 93,
   "id": "11df2de8-7b94-4d6a-b103-ae627bea7fed",
   "metadata": {},
   "outputs": [
    {
     "name": "stdout",
     "output_type": "stream",
     "text": [
      "parch\n",
      "0    34.37\n",
      "1    55.08\n",
      "2    50.00\n",
      "3    60.00\n",
      "4     0.00\n",
      "5    20.00\n",
      "6     0.00\n",
      "Name: survived, dtype: float64\n"
     ]
    }
   ],
   "source": [
    "survival_rate_parch = df.groupby('parch')['survived'].mean() * 100\n",
    "survival_rate_parch = survival_rate_parch.round(2)\n",
    "print(survival_rate_parch)"
   ]
  }
 ],
 "metadata": {
  "kernelspec": {
   "display_name": "Python 3 (ipykernel)",
   "language": "python",
   "name": "python3"
  },
  "language_info": {
   "codemirror_mode": {
    "name": "ipython",
    "version": 3
   },
   "file_extension": ".py",
   "mimetype": "text/x-python",
   "name": "python",
   "nbconvert_exporter": "python",
   "pygments_lexer": "ipython3",
   "version": "3.12.4"
  }
 },
 "nbformat": 4,
 "nbformat_minor": 5
}
