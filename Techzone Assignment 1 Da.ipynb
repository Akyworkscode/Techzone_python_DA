{
 "cells": [
  {
   "cell_type": "markdown",
   "id": "c9767101-6fde-401b-830a-663bffc896c1",
   "metadata": {},
   "source": [
    "# String Manipulation:\r\n",
    "1. Declare a string variable containing your favourite quote.\r\n",
    "2. Print the length of the quote.\r\n",
    "3. Print the quote in lowercase and uppercase.\r\n",
    "4. Count and print the number of occurrences of a specific word or character in\r\n",
    "the quote."
   ]
  },
  {
   "cell_type": "code",
   "execution_count": 3,
   "id": "66563b67-1bc3-4c6d-a6dc-5cae48cf2f92",
   "metadata": {},
   "outputs": [],
   "source": [
    "\n",
    "quote=(\"Each of us lives, dependent and bound by our individual knowledge and our awareness. All that is what we call reality. However, both knowledge and awareness are equivocal. One’s reality might be another’s illusion. We all live inside our own fantasies.\")\n",
    "#qoute"
   ]
  },
  {
   "cell_type": "code",
   "execution_count": 29,
   "id": "e99eaf82-04ee-49ec-9472-94e7c7ad23d1",
   "metadata": {},
   "outputs": [
    {
     "name": "stdout",
     "output_type": "stream",
     "text": [
      "252\n"
     ]
    }
   ],
   "source": [
    "print(len(quote))\n",
    "#finding length of qoute"
   ]
  },
  {
   "cell_type": "code",
   "execution_count": 31,
   "id": "43c21f1c-b28c-4d5a-be4b-12b085b81b2f",
   "metadata": {},
   "outputs": [
    {
     "name": "stdout",
     "output_type": "stream",
     "text": [
      "each of us lives, dependent and bound by our individual knowledge and our awareness. all that is what we call reality. however, both knowledge and awareness are equivocal. one’s reality might be another’s illusion. we all live inside our own fantasies.\n"
     ]
    }
   ],
   "source": [
    "print(quote.lower())\n",
    "#converting qoute to lower case"
   ]
  },
  {
   "cell_type": "code",
   "execution_count": 35,
   "id": "02a5371d-42c1-4aad-b82b-2a3096e505ae",
   "metadata": {},
   "outputs": [
    {
     "name": "stdout",
     "output_type": "stream",
     "text": [
      "EACH OF US LIVES, DEPENDENT AND BOUND BY OUR INDIVIDUAL KNOWLEDGE AND OUR AWARENESS. ALL THAT IS WHAT WE CALL REALITY. HOWEVER, BOTH KNOWLEDGE AND AWARENESS ARE EQUIVOCAL. ONE’S REALITY MIGHT BE ANOTHER’S ILLUSION. WE ALL LIVE INSIDE OUR OWN FANTASIES.\n"
     ]
    }
   ],
   "source": [
    "print(quote.upper())\n",
    "#converting coute to upper case"
   ]
  },
  {
   "cell_type": "code",
   "execution_count": 5,
   "id": "59a834e8-f14b-4f73-84ed-42ede112c919",
   "metadata": {},
   "outputs": [
    {
     "name": "stdin",
     "output_type": "stream",
     "text": [
      "Please mention the word of character to find f\n"
     ]
    },
    {
     "name": "stdout",
     "output_type": "stream",
     "text": [
      "2\n"
     ]
    }
   ],
   "source": [
    "quote_lower=quote.lower()\n",
    "#converting qoute to lower case and saving\n",
    "to_find=input(\"Please mention the word of character to find\")\n",
    "#taking input of word/character to find and storing in to_find variable\n",
    "to_find=to_find.lower()\n",
    "#converting to_find to lower case\n",
    "print(quote_lower.count(to_find))\n",
    "#checking count of to_find in qoute"
   ]
  },
  {
   "cell_type": "markdown",
   "id": "a0396e72-bd4b-4b90-9d3a-3d7459a0fe47",
   "metadata": {},
   "source": [
    "# Input Processing:\r\n",
    "1. Prompt the user to enter two numbers (one integer and one float) using the\r\n",
    "input() method.\r\n",
    "2. Convert the input strings to their respective data types (int and float).\r\n",
    "3. Perform the following operations and print the results:\r\n",
    "a Addition of the two numbers.\r\n",
    "b Concatenation of the two numbers as strings."
   ]
  },
  {
   "cell_type": "code",
   "execution_count": 65,
   "id": "987d4eaf-3525-44b6-b998-a245a85db725",
   "metadata": {},
   "outputs": [
    {
     "name": "stdin",
     "output_type": "stream",
     "text": [
      "Enter an Integer: 100\n",
      "Enter a Decimal number: 100.101\n"
     ]
    },
    {
     "name": "stdout",
     "output_type": "stream",
     "text": [
      "Sum of Both number: 200.101\n",
      "Concatenation of the two numbers : 100100.101\n"
     ]
    }
   ],
   "source": [
    "#propting for input\n",
    "integer=input(\"Enter an Integer:\")\n",
    "Float=input(\"Enter a Decimal number:\")\n",
    "#converting input to their type\n",
    "integer=int(integer)\n",
    "Float= float(Float)\n",
    "#Printing the values as sum and concatenation\n",
    "print(\"Sum of Both number:\",integer+Float)\n",
    "print(\"Concatenation of the two numbers :\",str(integer)+str(Float))"
   ]
  },
  {
   "cell_type": "markdown",
   "id": "7a5a4ad7-be1a-4ad1-976f-c516c355a4cd",
   "metadata": {},
   "source": [
    "# Boolean Operators:\n",
    "1. Create two variables, one with a numeric value and another with a string\n",
    "value.\n",
    "2. Use comparison operators to compare the values.\n",
    "3. Print the results of comparisons using boolean operators (and, or, not)."
   ]
  },
  {
   "cell_type": "code",
   "execution_count": 43,
   "id": "7a0b6f29-f3ef-47e6-abe4-ca2c9e7a78a4",
   "metadata": {
    "scrolled": true
   },
   "outputs": [
    {
     "name": "stdout",
     "output_type": "stream",
     "text": [
      "Are the Sting and number value Greater and Same? :  False\n",
      "Are the String and number value Greater or Same? :  True\n",
      "Are the String and number value Different? :  True\n"
     ]
    }
   ],
   "source": [
    "#Declaring variableabs\n",
    "var1=200\n",
    "var2=\"100\"\n",
    "\n",
    "#comparing variable\n",
    "compare_greater= var1>int(var2)\n",
    "compare_same= var1==int(var2)\n",
    "compare_less= var1<int(var2)\n",
    "\n",
    "#using boolean to show result\n",
    "result_and = compare_same and compare_greater\n",
    "result_or = compare_same or compare_greater\n",
    "result_not = not compare_same\n",
    "print(\"Are the Sting and number value Greater and Same? : \",result_and)\n",
    "print(\"Are the String and number value Greater or Same? : \",result_or)\n",
    "print(\"Are the String and number value Different? : \",result_not)\n"
   ]
  },
  {
   "cell_type": "markdown",
   "id": "27b8435f-821f-48e7-a58a-473f4f145e33",
   "metadata": {},
   "source": [
    "# Casting Data Types:\r\n",
    "1. Take an integer input from the user.\r\n",
    "2. Convert the integer to a float and print the result.\r\n",
    "3. Convert the float to an integer and print the result."
   ]
  },
  {
   "cell_type": "code",
   "execution_count": 45,
   "id": "41c8f51b-4dd4-4bac-8096-e44f8adc6337",
   "metadata": {},
   "outputs": [
    {
     "name": "stdin",
     "output_type": "stream",
     "text": [
      "Enter a Integer: 24\n"
     ]
    },
    {
     "name": "stdout",
     "output_type": "stream",
     "text": [
      "24\n"
     ]
    }
   ],
   "source": [
    "#Getting variable from user\n",
    "variable=input(\"Enter a Integer:\")\n",
    "#converting variable type\n",
    "variable=float(variable)\n",
    "variable=int(variable)\n",
    "#Printing variable\n",
    "print(variable)"
   ]
  },
  {
   "cell_type": "markdown",
   "id": "08775fe6-990a-40cc-a964-4598e7d241cc",
   "metadata": {},
   "source": [
    "# Question\n",
    "1. Create a Program to find the square root of any number provided by User?\n",
    "2. Create a Program to get 10 name clean and proper name from the user and\n",
    "store it in a Names list without using loop.\n",
    "3. If a Student get Math 56, Physic 67, Chemistry 69, English 99, and Arabic 98 out\n",
    "of 700 find out what will be the percentage and average marks student Got.\n"
   ]
  },
  {
   "cell_type": "code",
   "execution_count": 63,
   "id": "b2c70cf1-1614-4dd0-90ad-6b0f373eaea7",
   "metadata": {},
   "outputs": [
    {
     "name": "stdin",
     "output_type": "stream",
     "text": [
      "Enter the number to find its square root: 625\n"
     ]
    },
    {
     "name": "stdout",
     "output_type": "stream",
     "text": [
      "the Square root of the number is : 25.0\n"
     ]
    }
   ],
   "source": [
    "#Question 1 Solution\n",
    "#getting number from the User\n",
    "number=input(\"Enter the number to find its square root:\")\n",
    "#converting the type\n",
    "number = float(number)\n",
    "#getting the square root of the number\n",
    "sqrt_number = number**0.5\n",
    "#Printing the result\n",
    "print(\"the Square root of the number is :\",sqrt_number)"
   ]
  },
  {
   "cell_type": "code",
   "execution_count": 71,
   "id": "dbea5948-f8d9-48b4-9804-85a33b69ea91",
   "metadata": {},
   "outputs": [
    {
     "name": "stdin",
     "output_type": "stream",
     "text": [
      "Please enter a Name 1:  Sniper\n",
      "Please enter a Name 2:  Riki\n",
      "Please enter a Name 3:  nyx\n",
      "Please enter a Name 4:  Sven\n",
      "Please enter a Name 5:  Juggernut\n",
      "Please enter a Name 6:  Pudge\n",
      "Please enter a Name 7:  Axe\n",
      "Please enter a Name 8:  Pangoliar\n",
      "Please enter a Name 9:  Rylai\n",
      "Please enter a Name 10:  Jakira\n"
     ]
    },
    {
     "name": "stdout",
     "output_type": "stream",
     "text": [
      "['Sniper', 'Riki', 'Nyx', 'Sven', 'Juggernut', 'Pudge', 'Axe', 'Pangoliar', 'Rylai', 'Jakira']\n"
     ]
    }
   ],
   "source": [
    "#Question 2 Solution\n",
    "# Creating an eplty List\n",
    "Names_List=[]\n",
    "#Getting 10 names from the user and adding to the list\n",
    "x = input(\"Please enter a Name 1: \")\n",
    "x = x.lower()  # Converting all letters to lowercase\n",
    "x = x.capitalize()  # Capitalizing the first letter\n",
    "Names_List.append(x) # Adding to the List\n",
    "x = input(\"Please enter a Name 2: \")\n",
    "x = x.lower()  # Converting all letters to lowercase\n",
    "x = x.capitalize()  # Capitalizing the first letter\n",
    "Names_List.append(x) # Adding to the List\n",
    "x = input(\"Please enter a Name 3: \")\n",
    "x = x.lower()  # Converting all letters to lowercase\n",
    "x = x.capitalize()  # Capitalizing the first letter\n",
    "Names_List.append(x) # Adding to the List\n",
    "x = input(\"Please enter a Name 4: \")\n",
    "x = x.lower()  # Converting all letters to lowercase\n",
    "x = x.capitalize()  # Capitalizing the first letter\n",
    "Names_List.append(x) # Adding to the List\n",
    "x = input(\"Please enter a Name 5: \")\n",
    "x = x.lower()  # Converting all letters to lowercase\n",
    "x = x.capitalize()  # Capitalizing the first letter\n",
    "Names_List.append(x) # Adding to the List\n",
    "x = input(\"Please enter a Name 6: \")\n",
    "x = x.lower()  # Converting all letters to lowercase\n",
    "x = x.capitalize()  # Capitalizing the first letter\n",
    "Names_List.append(x) # Adding to the List\n",
    "x = input(\"Please enter a Name 7: \")\n",
    "x = x.lower()  # Converting all letters to lowercase\n",
    "x = x.capitalize()  # Capitalizing the first letter\n",
    "Names_List.append(x) # Adding to the List\n",
    "x = input(\"Please enter a Name 8: \")\n",
    "x = x.lower()  # Converting all letters to lowercase\n",
    "x = x.capitalize()  # Capitalizing the first letter\n",
    "Names_List.append(x) # Adding to the List\n",
    "x = input(\"Please enter a Name 9: \")\n",
    "x = x.lower()  # Converting all letters to lowercase\n",
    "x = x.capitalize()  # Capitalizing the first letter\n",
    "Names_List.append(x) # Adding to the List\\\n",
    "x = input(\"Please enter a Name 10: \")\n",
    "x = x.lower()  # Converting all letters to lowercase\n",
    "x = x.capitalize()  # Capitalizing the first letter\n",
    "Names_List.append(x) # Adding to the List\n",
    "\n",
    "print(Names_List)"
   ]
  },
  {
   "cell_type": "code",
   "execution_count": 78,
   "id": "56dd466b-5a7e-4b0f-bee8-5e4638676fe8",
   "metadata": {},
   "outputs": [
    {
     "name": "stdout",
     "output_type": "stream",
     "text": [
      "The average marks is 77.8 and percentage marks is 55.57142857142857 %\n"
     ]
    }
   ],
   "source": [
    "#Declaring Marks\n",
    "Math_marks=56\n",
    "Physics_marks=67\n",
    "Chemistry_marks=69\n",
    "English_marks=99\n",
    "Arabic_marks=98\n",
    "Total_marks=700\n",
    "#Finding total Marks obtained\n",
    "marks_obtained=Math_marks+Physics_marks+Chemistry_marks+English_marks+Arabic_marks\n",
    "#Finding Average marks and Percentage obtained\n",
    "average_marks=marks_obtained/5\n",
    "percent_marks=(marks_obtained/Total_marks)*100\n",
    "#Printing the Result using string operator\n",
    "print(f\"The average marks is {average_marks} and percentage marks is {percent_marks} %\")"
   ]
  },
  {
   "cell_type": "code",
   "execution_count": null,
   "id": "01f18e36-b0e0-4e06-a39d-754d66da313b",
   "metadata": {},
   "outputs": [],
   "source": []
  }
 ],
 "metadata": {
  "kernelspec": {
   "display_name": "Python 3 (ipykernel)",
   "language": "python",
   "name": "python3"
  },
  "language_info": {
   "codemirror_mode": {
    "name": "ipython",
    "version": 3
   },
   "file_extension": ".py",
   "mimetype": "text/x-python",
   "name": "python",
   "nbconvert_exporter": "python",
   "pygments_lexer": "ipython3",
   "version": "3.12.4"
  }
 },
 "nbformat": 4,
 "nbformat_minor": 5
}
